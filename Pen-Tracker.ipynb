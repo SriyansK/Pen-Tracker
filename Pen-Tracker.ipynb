{
 "cells": [
  {
   "cell_type": "code",
   "execution_count": 1,
   "metadata": {},
   "outputs": [],
   "source": [
    "import cv2\n",
    "import matplotlib.pyplot as plt\n",
    "import numpy as np"
   ]
  },
  {
   "cell_type": "code",
   "execution_count": 2,
   "metadata": {},
   "outputs": [],
   "source": [
    "lower_yellow = np.array([20, 100, 100]) \n",
    "upper_yellow = np.array([30, 255, 255]) "
   ]
  },
  {
   "cell_type": "code",
   "execution_count": null,
   "metadata": {},
   "outputs": [],
   "source": [
    "c = -1\n",
    "cx = [1]\n",
    "cy = [1]"
   ]
  },
  {
   "cell_type": "code",
   "execution_count": null,
   "metadata": {},
   "outputs": [],
   "source": [
    "cap = cv2.VideoCapture(0)\n",
    "while True:\n",
    "    \n",
    "    _,frame = cap.read(0)\n",
    "    img = frame.copy()\n",
    "    blur = cv2.medianBlur(frame,5)\n",
    "    hsv = cv2.cvtColor(blur,cv2.COLOR_BGR2HSV)\n",
    "    mask = cv2.inRange(hsv,lower_yellow,upper_yellow)\n",
    "    _,contours,_ = cv2.findContours(mask,cv2.RETR_TREE,cv2.CHAIN_APPROX_SIMPLE)\n",
    "    \n",
    "    for contour in contours :\n",
    "        area = cv2.contourArea(contour)\n",
    "        if area > 200:\n",
    "            if area < 1000:\n",
    "                c = contour\n",
    "                M = cv2.moments(contour)\n",
    "                cx.append(int(M['m10']/M['m00']))\n",
    "                cy.append(int(M['m01']/M['m00']))\n",
    "                break\n",
    "    for (x ,y) in zip(cx,cy):\n",
    "        cv2.circle(img,(x,y),2,(255,0,255),2)\n",
    "        \n",
    "    cv2.imshow(\"Write\",img)\n",
    "    if cv2.waitKey(10) & 0xFF==27:\n",
    "        break\n",
    "        \n",
    "cap.release()\n",
    "cv2.destroyAllWindows()"
   ]
  }
 ],
 "metadata": {
  "kernelspec": {
   "display_name": "Python 3",
   "language": "python",
   "name": "python3"
  },
  "language_info": {
   "codemirror_mode": {
    "name": "ipython",
    "version": 3
   },
   "file_extension": ".py",
   "mimetype": "text/x-python",
   "name": "python",
   "nbconvert_exporter": "python",
   "pygments_lexer": "ipython3",
   "version": "3.6.6"
  }
 },
 "nbformat": 4,
 "nbformat_minor": 2
}